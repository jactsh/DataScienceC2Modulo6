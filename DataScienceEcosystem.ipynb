{
 "cells": [
  {
   "attachments": {},
   "cell_type": "markdown",
   "id": "10c03908-1737-4f41-84b9-6ca64510c795",
   "metadata": {},
   "source": [
    "# Data Science Tools and Ecosystem"
   ]
  },
  {
   "cell_type": "markdown",
   "id": "7c986b3f-9e10-4889-83b2-adb8d6f2bbbd",
   "metadata": {},
   "source": [
    "# Exercise 3 - Create a markdown cell for an introduction\n",
    "In this notebook, Data Science Tools and Ecosystem are summarized."
   ]
  },
  {
   "cell_type": "markdown",
   "id": "e59dd0db-e6aa-4a4b-a3bc-533101a3a2c3",
   "metadata": {},
   "source": [
    "**Objectives:**\n",
    "* Crear un cuaderno Jupyter con markdown y celdas de código\n",
    "* Enumere ejemplos de lenguajes, bibliotecas y herramientas utilizados en la Ciencia de Datos\n",
    "* Comparta su Jupyter Notebook públicamente en GitHub\n",
    "* Evalúe los cuadernos presentados por sus compañeros utilizando la rúbrica proporcionada\n",
    "* Demostrar competencia en el conocimiento del conjunto de herramientas de Ciencia de Datos"
   ]
  },
  {
   "cell_type": "markdown",
   "id": "2a1f26d1-905e-42a4-be4e-01882ae035af",
   "metadata": {},
   "source": [
    "# Exercise 4 - Create a markdown cell to list data science languages\n",
    "Some of the popular languages that Data Scientists use are:\n",
    "1. Python\n",
    "2. R\n",
    "3. Julia\n",
    "4. Scala\n",
    "5. Java\n",
    "6. C++"
   ]
  },
  {
   "cell_type": "markdown",
   "id": "90e802dd-bf5c-4bfd-a757-f87108655422",
   "metadata": {},
   "source": [
    "# Exercise 5 - Create a markdown cell to list data science libraries\n",
    "Some of the commonly used libraries used by Data Scientists include:\n",
    "1. Panda\n",
    "2. NumPy\n",
    "3. Matplotlib\n",
    "4. SciPy\n",
    "5. Scikit-learn"
   ]
  },
  {
   "cell_type": "markdown",
   "id": "067285ce-b315-4a81-8fbe-23b5dd97b1a3",
   "metadata": {},
   "source": [
    "# Exercise 6 - Create a markdown cell with a table of Data Science tools\n",
    "\n",
    "|Data Science Tools|\n",
    "|------------------|\n",
    "|Jupyter Notebook|\n",
    "|JupyterLab |\n",
    "| Vs code|\n",
    "| Anaconda Navigator |\n",
    "\n"
   ]
  },
  {
   "cell_type": "markdown",
   "id": "8fdd0153-e900-40bc-8bc5-a7578c603da1",
   "metadata": {},
   "source": [
    "# Exercise 7 - Create a markdown cell introducing arithmetic expression examples\n",
    "### Below are a few examples of evaluating arithmetic expressions in Python\n"
   ]
  },
  {
   "cell_type": "code",
   "execution_count": null,
   "id": "2485f43c-ef3b-40f8-876c-975da2a1dc68",
   "metadata": {},
   "outputs": [],
   "source": []
  },
  {
   "cell_type": "code",
   "execution_count": 22,
   "id": "1100d7e6-1e0a-4392-af8e-bde781763d21",
   "metadata": {},
   "outputs": [
    {
     "data": {
      "text/plain": [
       "17"
      ]
     },
     "execution_count": 22,
     "metadata": {},
     "output_type": "execute_result"
    }
   ],
   "source": [
    "# This a simple arithmetic expression to mutiply then add integers\n",
    "(3*4)+5\n"
   ]
  },
  {
   "cell_type": "code",
   "execution_count": 25,
   "id": "10cae1ae-dd13-4ec2-bf67-54c845346239",
   "metadata": {},
   "outputs": [
    {
     "data": {
      "text/plain": [
       "3.3333333333333335"
      ]
     },
     "execution_count": 25,
     "metadata": {},
     "output_type": "execute_result"
    }
   ],
   "source": [
    "# This will convert 200 minutes to hours by diving by 60\n",
    "200 / 60"
   ]
  },
  {
   "cell_type": "markdown",
   "id": "b4b9f601-1480-47a3-a628-b945d97cab91",
   "metadata": {},
   "source": [
    "## Author\n",
    "Jacques\n"
   ]
  },
  {
   "cell_type": "code",
   "execution_count": null,
   "id": "f70f218a-b949-4bf7-8afa-dcd673933841",
   "metadata": {},
   "outputs": [],
   "source": []
  }
 ],
 "metadata": {
  "kernelspec": {
   "display_name": "Python 3 (ipykernel)",
   "language": "python",
   "name": "python3"
  },
  "language_info": {
   "codemirror_mode": {
    "name": "ipython",
    "version": 3
   },
   "file_extension": ".py",
   "mimetype": "text/x-python",
   "name": "python",
   "nbconvert_exporter": "python",
   "pygments_lexer": "ipython3",
   "version": "3.12.4"
  }
 },
 "nbformat": 4,
 "nbformat_minor": 5
}
